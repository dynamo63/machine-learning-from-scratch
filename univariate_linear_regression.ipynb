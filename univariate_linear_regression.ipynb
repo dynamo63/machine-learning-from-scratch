{
  "nbformat": 4,
  "nbformat_minor": 0,
  "metadata": {
    "colab": {
      "name": "univariate_linear_regression.ipynb",
      "provenance": [],
      "collapsed_sections": [],
      "authorship_tag": "ABX9TyMPnuuZ38aocbt8CB0dmX3H",
      "include_colab_link": true
    },
    "kernelspec": {
      "name": "python3",
      "display_name": "Python 3"
    },
    "language_info": {
      "name": "python"
    }
  },
  "cells": [
    {
      "cell_type": "markdown",
      "metadata": {
        "id": "view-in-github",
        "colab_type": "text"
      },
      "source": [
        "<a href=\"https://colab.research.google.com/github/dynamo63/machine-learning-from-scratch/blob/main/univariate_linear_regression.ipynb\" target=\"_parent\"><img src=\"https://colab.research.google.com/assets/colab-badge.svg\" alt=\"Open In Colab\"/></a>"
      ]
    },
    {
      "cell_type": "markdown",
      "metadata": {
        "id": "xLa2ZTQbYFxH"
      },
      "source": [
        "# Univariate Linear Regression\n",
        "\n",
        "Linear regression is a machine learning algorithm used to predict a continous value ( we are in supervised learning)."
      ]
    },
    {
      "cell_type": "code",
      "metadata": {
        "id": "sdAyv0JMXrtp"
      },
      "source": [
        "import numpy as np\n",
        "import pandas as pd\n",
        "import matplotlib.pyplot as plt"
      ],
      "execution_count": 5,
      "outputs": []
    },
    {
      "cell_type": "markdown",
      "metadata": {
        "id": "6OkwyVl_cD7L"
      },
      "source": [
        "## Get Dataset\n"
      ]
    },
    {
      "cell_type": "code",
      "metadata": {
        "colab": {
          "base_uri": "https://localhost:8080/",
          "height": 1000
        },
        "id": "UrSGf9IoauuV",
        "outputId": "cc69e368-7600-47b1-e0ab-f3e0d73ae69e"
      },
      "source": [
        "data = pd.read_json(\"./sample_data/anscombe.json\")\n",
        "data.drop('Series', axis=1, inplace=True)\n",
        "data"
      ],
      "execution_count": 35,
      "outputs": [
        {
          "output_type": "execute_result",
          "data": {
            "text/html": [
              "<div>\n",
              "<style scoped>\n",
              "    .dataframe tbody tr th:only-of-type {\n",
              "        vertical-align: middle;\n",
              "    }\n",
              "\n",
              "    .dataframe tbody tr th {\n",
              "        vertical-align: top;\n",
              "    }\n",
              "\n",
              "    .dataframe thead th {\n",
              "        text-align: right;\n",
              "    }\n",
              "</style>\n",
              "<table border=\"1\" class=\"dataframe\">\n",
              "  <thead>\n",
              "    <tr style=\"text-align: right;\">\n",
              "      <th></th>\n",
              "      <th>X</th>\n",
              "      <th>Y</th>\n",
              "    </tr>\n",
              "  </thead>\n",
              "  <tbody>\n",
              "    <tr>\n",
              "      <th>0</th>\n",
              "      <td>10</td>\n",
              "      <td>8.04</td>\n",
              "    </tr>\n",
              "    <tr>\n",
              "      <th>1</th>\n",
              "      <td>8</td>\n",
              "      <td>6.95</td>\n",
              "    </tr>\n",
              "    <tr>\n",
              "      <th>2</th>\n",
              "      <td>13</td>\n",
              "      <td>7.58</td>\n",
              "    </tr>\n",
              "    <tr>\n",
              "      <th>3</th>\n",
              "      <td>9</td>\n",
              "      <td>8.81</td>\n",
              "    </tr>\n",
              "    <tr>\n",
              "      <th>4</th>\n",
              "      <td>11</td>\n",
              "      <td>8.33</td>\n",
              "    </tr>\n",
              "    <tr>\n",
              "      <th>5</th>\n",
              "      <td>14</td>\n",
              "      <td>9.96</td>\n",
              "    </tr>\n",
              "    <tr>\n",
              "      <th>6</th>\n",
              "      <td>6</td>\n",
              "      <td>7.24</td>\n",
              "    </tr>\n",
              "    <tr>\n",
              "      <th>7</th>\n",
              "      <td>4</td>\n",
              "      <td>4.26</td>\n",
              "    </tr>\n",
              "    <tr>\n",
              "      <th>8</th>\n",
              "      <td>12</td>\n",
              "      <td>10.84</td>\n",
              "    </tr>\n",
              "    <tr>\n",
              "      <th>9</th>\n",
              "      <td>7</td>\n",
              "      <td>4.81</td>\n",
              "    </tr>\n",
              "    <tr>\n",
              "      <th>10</th>\n",
              "      <td>5</td>\n",
              "      <td>5.68</td>\n",
              "    </tr>\n",
              "    <tr>\n",
              "      <th>11</th>\n",
              "      <td>10</td>\n",
              "      <td>9.14</td>\n",
              "    </tr>\n",
              "    <tr>\n",
              "      <th>12</th>\n",
              "      <td>8</td>\n",
              "      <td>8.14</td>\n",
              "    </tr>\n",
              "    <tr>\n",
              "      <th>13</th>\n",
              "      <td>13</td>\n",
              "      <td>8.74</td>\n",
              "    </tr>\n",
              "    <tr>\n",
              "      <th>14</th>\n",
              "      <td>9</td>\n",
              "      <td>8.77</td>\n",
              "    </tr>\n",
              "    <tr>\n",
              "      <th>15</th>\n",
              "      <td>11</td>\n",
              "      <td>9.26</td>\n",
              "    </tr>\n",
              "    <tr>\n",
              "      <th>16</th>\n",
              "      <td>14</td>\n",
              "      <td>8.10</td>\n",
              "    </tr>\n",
              "    <tr>\n",
              "      <th>17</th>\n",
              "      <td>6</td>\n",
              "      <td>6.13</td>\n",
              "    </tr>\n",
              "    <tr>\n",
              "      <th>18</th>\n",
              "      <td>4</td>\n",
              "      <td>3.10</td>\n",
              "    </tr>\n",
              "    <tr>\n",
              "      <th>19</th>\n",
              "      <td>12</td>\n",
              "      <td>9.13</td>\n",
              "    </tr>\n",
              "    <tr>\n",
              "      <th>20</th>\n",
              "      <td>7</td>\n",
              "      <td>7.26</td>\n",
              "    </tr>\n",
              "    <tr>\n",
              "      <th>21</th>\n",
              "      <td>5</td>\n",
              "      <td>4.74</td>\n",
              "    </tr>\n",
              "    <tr>\n",
              "      <th>22</th>\n",
              "      <td>10</td>\n",
              "      <td>7.46</td>\n",
              "    </tr>\n",
              "    <tr>\n",
              "      <th>23</th>\n",
              "      <td>8</td>\n",
              "      <td>6.77</td>\n",
              "    </tr>\n",
              "    <tr>\n",
              "      <th>24</th>\n",
              "      <td>13</td>\n",
              "      <td>12.74</td>\n",
              "    </tr>\n",
              "    <tr>\n",
              "      <th>25</th>\n",
              "      <td>9</td>\n",
              "      <td>7.11</td>\n",
              "    </tr>\n",
              "    <tr>\n",
              "      <th>26</th>\n",
              "      <td>11</td>\n",
              "      <td>7.81</td>\n",
              "    </tr>\n",
              "    <tr>\n",
              "      <th>27</th>\n",
              "      <td>14</td>\n",
              "      <td>8.84</td>\n",
              "    </tr>\n",
              "    <tr>\n",
              "      <th>28</th>\n",
              "      <td>6</td>\n",
              "      <td>6.08</td>\n",
              "    </tr>\n",
              "    <tr>\n",
              "      <th>29</th>\n",
              "      <td>4</td>\n",
              "      <td>5.39</td>\n",
              "    </tr>\n",
              "    <tr>\n",
              "      <th>30</th>\n",
              "      <td>12</td>\n",
              "      <td>8.15</td>\n",
              "    </tr>\n",
              "    <tr>\n",
              "      <th>31</th>\n",
              "      <td>7</td>\n",
              "      <td>6.42</td>\n",
              "    </tr>\n",
              "    <tr>\n",
              "      <th>32</th>\n",
              "      <td>5</td>\n",
              "      <td>5.73</td>\n",
              "    </tr>\n",
              "    <tr>\n",
              "      <th>33</th>\n",
              "      <td>8</td>\n",
              "      <td>6.58</td>\n",
              "    </tr>\n",
              "    <tr>\n",
              "      <th>34</th>\n",
              "      <td>8</td>\n",
              "      <td>5.76</td>\n",
              "    </tr>\n",
              "    <tr>\n",
              "      <th>35</th>\n",
              "      <td>8</td>\n",
              "      <td>7.71</td>\n",
              "    </tr>\n",
              "    <tr>\n",
              "      <th>36</th>\n",
              "      <td>8</td>\n",
              "      <td>8.84</td>\n",
              "    </tr>\n",
              "    <tr>\n",
              "      <th>37</th>\n",
              "      <td>8</td>\n",
              "      <td>8.47</td>\n",
              "    </tr>\n",
              "    <tr>\n",
              "      <th>38</th>\n",
              "      <td>8</td>\n",
              "      <td>7.04</td>\n",
              "    </tr>\n",
              "    <tr>\n",
              "      <th>39</th>\n",
              "      <td>8</td>\n",
              "      <td>5.25</td>\n",
              "    </tr>\n",
              "    <tr>\n",
              "      <th>40</th>\n",
              "      <td>19</td>\n",
              "      <td>12.50</td>\n",
              "    </tr>\n",
              "    <tr>\n",
              "      <th>41</th>\n",
              "      <td>8</td>\n",
              "      <td>5.56</td>\n",
              "    </tr>\n",
              "    <tr>\n",
              "      <th>42</th>\n",
              "      <td>8</td>\n",
              "      <td>7.91</td>\n",
              "    </tr>\n",
              "    <tr>\n",
              "      <th>43</th>\n",
              "      <td>8</td>\n",
              "      <td>6.89</td>\n",
              "    </tr>\n",
              "  </tbody>\n",
              "</table>\n",
              "</div>"
            ],
            "text/plain": [
              "     X      Y\n",
              "0   10   8.04\n",
              "1    8   6.95\n",
              "2   13   7.58\n",
              "3    9   8.81\n",
              "4   11   8.33\n",
              "5   14   9.96\n",
              "6    6   7.24\n",
              "7    4   4.26\n",
              "8   12  10.84\n",
              "9    7   4.81\n",
              "10   5   5.68\n",
              "11  10   9.14\n",
              "12   8   8.14\n",
              "13  13   8.74\n",
              "14   9   8.77\n",
              "15  11   9.26\n",
              "16  14   8.10\n",
              "17   6   6.13\n",
              "18   4   3.10\n",
              "19  12   9.13\n",
              "20   7   7.26\n",
              "21   5   4.74\n",
              "22  10   7.46\n",
              "23   8   6.77\n",
              "24  13  12.74\n",
              "25   9   7.11\n",
              "26  11   7.81\n",
              "27  14   8.84\n",
              "28   6   6.08\n",
              "29   4   5.39\n",
              "30  12   8.15\n",
              "31   7   6.42\n",
              "32   5   5.73\n",
              "33   8   6.58\n",
              "34   8   5.76\n",
              "35   8   7.71\n",
              "36   8   8.84\n",
              "37   8   8.47\n",
              "38   8   7.04\n",
              "39   8   5.25\n",
              "40  19  12.50\n",
              "41   8   5.56\n",
              "42   8   7.91\n",
              "43   8   6.89"
            ]
          },
          "metadata": {},
          "execution_count": 35
        }
      ]
    },
    {
      "cell_type": "code",
      "metadata": {
        "colab": {
          "base_uri": "https://localhost:8080/",
          "height": 282
        },
        "id": "EzMofhA9c2Sv",
        "outputId": "e28a8fbc-7fe8-4e1c-b7b9-a61eb2b53ff1"
      },
      "source": [
        "plt.scatter(data['X'], data['Y'])"
      ],
      "execution_count": 11,
      "outputs": [
        {
          "output_type": "execute_result",
          "data": {
            "text/plain": [
              "<matplotlib.collections.PathCollection at 0x7fc13460d150>"
            ]
          },
          "metadata": {},
          "execution_count": 11
        },
        {
          "output_type": "display_data",
          "data": {
            "image/png": "[encoded data removed]",
            "text/plain": [
              "<Figure size 432x288 with 1 Axes>"
            ]
          },
          "metadata": {
            "needs_background": "light"
          }
        }
      ]
    },
    {
      "cell_type": "code",
      "metadata": {
        "colab": {
          "base_uri": "https://localhost:8080/"
        },
        "id": "E14v4eOWcY63",
        "outputId": "cdbb300a-646a-4a97-e87a-2514f4eb3fb9"
      },
      "source": [
        "# Always verify matrix dimension\n",
        "x,y = data['X'].to_frame(), data['Y'].to_frame()\n",
        "X = np.hstack((x, np.ones(x.shape)))\n",
        "X.shape"
      ],
      "execution_count": 12,
      "outputs": [
        {
          "output_type": "execute_result",
          "data": {
            "text/plain": [
              "(44, 2)"
            ]
          },
          "metadata": {},
          "execution_count": 12
        }
      ]
    },
    {
      "cell_type": "markdown",
      "metadata": {
        "id": "-wbF5uMKjw-4"
      },
      "source": [
        "For gradient descent, we generate theta with random values "
      ]
    },
    {
      "cell_type": "code",
      "metadata": {
        "colab": {
          "base_uri": "https://localhost:8080/"
        },
        "id": "X2nyQbgpeiH2",
        "outputId": "66b3050c-8821-4313-cb08-503f521a4466"
      },
      "source": [
        "# we need to initialize vector theta to use in cost function\n",
        "theta = np.random.rand(2, 1)\n",
        "print(f\"Shape: {theta.shape}\")\n",
        "print(theta)"
      ],
      "execution_count": 13,
      "outputs": [
        {
          "output_type": "stream",
          "name": "stdout",
          "text": [
            "Shape: (2, 1)\n",
            "[[0.3959832 ]\n",
            " [0.45483616]]\n"
          ]
        }
      ]
    },
    {
      "cell_type": "markdown",
      "metadata": {
        "id": "w2s2S7xBfBVV"
      },
      "source": [
        "# Create the model\n",
        "\n",
        "In the Univariate Linear Regression, the hypothesis function looks like that: \n",
        "\n",
        "\\begin{align*}\n",
        "h(θ) = θ_1x + θ_0\n",
        "\\end{align*}\n",
        "\n",
        "So in matrix X implementation, we have:\n",
        "\n",
        "\\begin{equation}\n",
        "  \\begin{pmatrix}\n",
        "    X_{1} & 1 \\\\\n",
        "    X_{2} &  1 \\\\\n",
        "    X_{3} & 1\n",
        "  \\end{pmatrix}\n",
        "  \\cdot\n",
        "  \\begin{pmatrix}\n",
        "    θ_1 \\\\\n",
        "    θ_0 \n",
        "  \\end{pmatrix}\n",
        "  =\n",
        "  \\begin{pmatrix}\n",
        "    y_{1} \\\\\n",
        "    y_{2} \\\\\n",
        "    y_{3}\n",
        "  \\end{pmatrix}\n",
        "\\end{equation}\n"
      ]
    },
    {
      "cell_type": "code",
      "metadata": {
        "id": "mQhZcF18fEIr"
      },
      "source": [
        "def model(X, theta):\n",
        "  return X.dot(theta)"
      ],
      "execution_count": 14,
      "outputs": []
    },
    {
      "cell_type": "code",
      "metadata": {
        "colab": {
          "base_uri": "https://localhost:8080/",
          "height": 282
        },
        "id": "QdopuAbph-Sx",
        "outputId": "4b01b860-dc05-4adf-f98f-5b4d71eeb6ff"
      },
      "source": [
        "plt.scatter(x, y)\n",
        "plt.plot(x, model(X, theta), c='r')"
      ],
      "execution_count": 36,
      "outputs": [
        {
          "output_type": "execute_result",
          "data": {
            "text/plain": [
              "[<matplotlib.lines.Line2D at 0x7fc124063b50>]"
            ]
          },
          "metadata": {},
          "execution_count": 36
        },
        {
          "output_type": "display_data",
          "data": {
            "image/png": "[encoded data removed]",
            "text/plain": [
              "<Figure size 432x288 with 1 Axes>"
            ]
          },
          "metadata": {
            "needs_background": "light"
          }
        }
      ]
    },
    {
      "cell_type": "markdown",
      "metadata": {
        "id": "VWKFq5G7kuks"
      },
      "source": [
        "# Cost function\n",
        "\n",
        "Also named : Mean Squarred Error"
      ]
    },
    {
      "cell_type": "code",
      "metadata": {
        "id": "KAwUhJbzkxzo"
      },
      "source": [
        "def cost_function(x, y, theta):\n",
        "  m = len(y)\n",
        "  return 1/(2*m) * np.sum((model(x, theta) - y)**2)"
      ],
      "execution_count": 37,
      "outputs": []
    },
    {
      "cell_type": "code",
      "metadata": {
        "colab": {
          "base_uri": "https://localhost:8080/"
        },
        "id": "v1goCs5plyQb",
        "outputId": "e601cc44-f589-42b4-81ca-665a73424163"
      },
      "source": [
        "cost_function(X, y, theta)"
      ],
      "execution_count": 38,
      "outputs": [
        {
          "output_type": "execute_result",
          "data": {
            "text/plain": [
              "Y    6.741245\n",
              "dtype: float64"
            ]
          },
          "metadata": {},
          "execution_count": 38
        }
      ]
    },
    {
      "cell_type": "markdown",
      "metadata": {
        "id": "-C_2GCRKpYX9"
      },
      "source": [
        "# Gradient & Descent Gradient\n"
      ]
    },
    {
      "cell_type": "code",
      "metadata": {
        "id": "E1aDMApXpaFE"
      },
      "source": [
        "def grad(X, y, theta):\n",
        "  m = len(y)\n",
        "  return 1/m * X.T.dot(model(X, theta) - y)"
      ],
      "execution_count": 39,
      "outputs": []
    },
    {
      "cell_type": "code",
      "metadata": {
        "id": "p9YwJKQTqB-3"
      },
      "source": [
        "def descent_gradient(X, y, theta, learning_rate=0.01, n_iter=100):\n",
        "  cost_history = np.zeros(n_iter)\n",
        "  for i in range(0, n_iter):\n",
        "    theta = theta - learning_rate * grad(X, y, theta)\n",
        "    cost_history[i] = cost_function(X, y, theta)\n",
        "  return theta, cost_history"
      ],
      "execution_count": 40,
      "outputs": []
    },
    {
      "cell_type": "markdown",
      "metadata": {
        "id": "6gH3Lf8ESw0w"
      },
      "source": [
        "# Normal Equation\n",
        "\n",
        "Here we use normal equation to find theta without iterations\n",
        "\n",
        "\\begin{align*}\n",
        "θ = (X^TX)^{-1}X^Ty\n",
        "\\end{align*}\n"
      ]
    },
    {
      "cell_type": "code",
      "metadata": {
        "id": "SwEHcdK9S-yt"
      },
      "source": [
        "def normal_equation(X, y):\n",
        "  X_T = X.T\n",
        "  theta = np.linalg.inv(X_T.dot(X)).dot(X_T).dot(y)\n",
        "  return theta"
      ],
      "execution_count": 51,
      "outputs": []
    },
    {
      "cell_type": "markdown",
      "metadata": {
        "id": "zzaP0NNsqrAz"
      },
      "source": [
        "# Train the model"
      ]
    },
    {
      "cell_type": "markdown",
      "metadata": {
        "id": "7Xpm8dFkkFgG"
      },
      "source": [
        "## Predictions with theta of Gradient Descent"
      ]
    },
    {
      "cell_type": "code",
      "metadata": {
        "colab": {
          "base_uri": "https://localhost:8080/"
        },
        "id": "VJh7101xkbBU",
        "outputId": "0a5bb6a8-edeb-41f5-fd8b-ca1daba773e1"
      },
      "source": [
        "n_iterations = 2000\n",
        "theta_dg, cost_history = descent_gradient(X, y, theta, n_iter=n_iterations, learning_rate=0.001)\n",
        "theta_dg"
      ],
      "execution_count": 70,
      "outputs": [
        {
          "output_type": "execute_result",
          "data": {
            "text/plain": [
              "array([[0.69997383],\n",
              "       [0.98088998]])"
            ]
          },
          "metadata": {},
          "execution_count": 70
        }
      ]
    },
    {
      "cell_type": "code",
      "metadata": {
        "colab": {
          "base_uri": "https://localhost:8080/",
          "height": 282
        },
        "id": "FrCNlV6QrDY-",
        "outputId": "5921596f-bcc0-49f2-e112-60b3d2005522"
      },
      "source": [
        "predictions_with_dg = model(X, theta_dg)\n",
        "plt.scatter(x,y)\n",
        "plt.plot(x, predictions_with_dg, c='r')"
      ],
      "execution_count": 71,
      "outputs": [
        {
          "output_type": "execute_result",
          "data": {
            "text/plain": [
              "[<matplotlib.lines.Line2D at 0x7fc1238f77d0>]"
            ]
          },
          "metadata": {},
          "execution_count": 71
        },
        {
          "output_type": "display_data",
          "data": {
            "image/png": "[encoded data removed]",
            "text/plain": [
              "<Figure size 432x288 with 1 Axes>"
            ]
          },
          "metadata": {
            "needs_background": "light"
          }
        }
      ]
    },
    {
      "cell_type": "code",
      "metadata": {
        "id": "NTKaIx7ysGVx",
        "colab": {
          "base_uri": "https://localhost:8080/",
          "height": 282
        },
        "outputId": "571d4e8f-3e07-41b0-9024-69a80d47d31a"
      },
      "source": [
        "plt.plot(range(n_iterations), cost_history)"
      ],
      "execution_count": 72,
      "outputs": [
        {
          "output_type": "execute_result",
          "data": {
            "text/plain": [
              "[<matplotlib.lines.Line2D at 0x7fc123861a50>]"
            ]
          },
          "metadata": {},
          "execution_count": 72
        },
        {
          "output_type": "display_data",
          "data": {
            "image/png": "[encoded data removed]",
            "text/plain": [
              "<Figure size 432x288 with 1 Axes>"
            ]
          },
          "metadata": {
            "needs_background": "light"
          }
        }
      ]
    },
    {
      "cell_type": "markdown",
      "metadata": {
        "id": "Qn__828SkyGN"
      },
      "source": [
        "## Predictions with Normal Equation\n",
        "\n",
        "Normal equation allow to find theta without iteration.\n",
        "Here the formula:\n",
        "\n"
      ]
    },
    {
      "cell_type": "code",
      "metadata": {
        "colab": {
          "base_uri": "https://localhost:8080/"
        },
        "id": "m9VdW__KlpJ6",
        "outputId": "a4e5ac5c-d522-4f49-dbbc-5922d8461830"
      },
      "source": [
        "theta_ne = normal_equation(X, y)\n",
        "print(theta_ne)"
      ],
      "execution_count": 52,
      "outputs": [
        {
          "output_type": "stream",
          "name": "stdout",
          "text": [
            "[[0.49997727]\n",
            " [3.00065909]]\n"
          ]
        }
      ]
    },
    {
      "cell_type": "code",
      "metadata": {
        "colab": {
          "base_uri": "https://localhost:8080/",
          "height": 282
        },
        "id": "qAk2z76Ily7C",
        "outputId": "3f914fa5-be07-4a0a-9f84-9f7ea8c69cf5"
      },
      "source": [
        "predictions_with_ne = model(X, theta_ne)\n",
        "plt.scatter(x,y)\n",
        "plt.plot(x, predictions_with_ne, c='r')"
      ],
      "execution_count": 55,
      "outputs": [
        {
          "output_type": "execute_result",
          "data": {
            "text/plain": [
              "[<matplotlib.lines.Line2D at 0x7fc123cacc50>]"
            ]
          },
          "metadata": {},
          "execution_count": 55
        },
        {
          "output_type": "display_data",
          "data": {
            "image/png": "[encoded data removed]",
            "text/plain": [
              "<Figure size 432x288 with 1 Axes>"
            ]
          },
          "metadata": {
            "needs_background": "light"
          }
        }
      ]
    },
    {
      "cell_type": "markdown",
      "metadata": {
        "id": "Te0AMyYhuo-0"
      },
      "source": [
        "## coefficient of determination\n",
        "\n",
        "We use coefficient of determination to evaluate the model performance. In the linear regression, we use the Least squares method"
      ]
    },
    {
      "cell_type": "code",
      "metadata": {
        "id": "F7xzTrnVu_uY"
      },
      "source": [
        "def coef_determination(y, pred):\n",
        "  u = ((y - pred)**2).sum()\n",
        "  v = ((y - y.mean())**2).sum()\n",
        "  return 1 - u/v"
      ],
      "execution_count": 56,
      "outputs": []
    },
    {
      "cell_type": "code",
      "metadata": {
        "colab": {
          "base_uri": "https://localhost:8080/"
        },
        "id": "GJYLTagdv3mT",
        "outputId": "ab44630b-7917-42f9-81c5-973ee17d3e2d"
      },
      "source": [
        "print(f\"Percentage with Normal Equation: {coef_determination(y, predictions_with_ne)}\")\n",
        "print(f\"Percentage with Gradient Descent: {coef_determination(y, predictions_with_dg)}\")"
      ],
      "execution_count": 73,
      "outputs": [
        {
          "output_type": "stream",
          "name": "stdout",
          "text": [
            "Percentage with Normal Equation: Y    0.666358\n",
            "dtype: float64\n",
            "Percentage with Gradient Descent: Y    0.546856\n",
            "dtype: float64\n"
          ]
        }
      ]
    }
  ]
}